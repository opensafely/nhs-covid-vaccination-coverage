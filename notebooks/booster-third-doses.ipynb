{
 "cells": [
  {
   "cell_type": "markdown",
   "metadata": {},
   "source": [
    "# OpenSAFELY COVID Vaccine coverage report: Booster / third doses "
   ]
  },
  {
   "cell_type": "markdown",
   "metadata": {},
   "source": [
    "OpenSAFELY is a new secure analytics platform for electronic patient records built on behalf of NHS England to deliver urgent academic and operational research during the pandemic. \n",
    "\n",
    "This is an extension of our [regular weekly report](https://reports.opensafely.org/reports/vaccine-coverage/) on COVID-19 vaccination coverage in England using data from 40% of general practices that use TPP electronic health record software. **The data requires careful interpretation and there are a number of caveats. Please read the full detail about our methods and discussion of our earlier results (as of 17 March 2021) in our [peer-reviewed publication in the British Journal of General Practice](https://doi.org/10.3399/BJGP.2021.0376).** \n",
    "\n",
    "The full analytical methods behind the latest results in this report are available [here](https://github.com/opensafely/nhs-covid-vaccination-uptake).\n",
    "\n",
    "**Update: Our vaccine reports are currently published monthly.  If you rely on more regular data updates for your own reporting or analysis please contact team@opensafely.org to let us know.**"
   ]
  },
  {
   "cell_type": "markdown",
   "metadata": {},
   "source": [
    "## Booster/Third doses"
   ]
  },
  {
   "cell_type": "code",
   "execution_count": null,
   "metadata": {
    "lines_to_end_of_cell_marker": 2
   },
   "outputs": [],
   "source": [
    "from datetime import datetime\n",
    "%matplotlib inline\n",
    "%config InlineBackend.figure_format='png'\n",
    "\n",
    "from IPython.display import display, Markdown\n",
    "import os\n",
    "import pandas as pd\n",
    "pd.set_option(\"display.max_rows\", 200)\n",
    "import sys\n",
    "sys.path.append('../lib/')\n",
    "from create_report import find_and_sort_filenames\n",
    "from second_third_doses import *\n",
    "\n",
    "backend = os.getenv(\"OPENSAFELY_BACKEND\", \"expectations\")\n",
    "suffix = \"_tpp\"\n",
    "\n",
    "display(Markdown(f\"### Report last updated **{datetime.today().strftime('%d %b %Y')}**\"))\n",
    "\n",
    "with open(os.path.join(\"..\", \"interim-outputs\",\"text\", \"latest_date.txt\"), 'r') as file:\n",
    "    latest_date_fmt = file.read()\n",
    "    display(Markdown(f\"### Third dose vaccinations included up to **{latest_date_fmt}** inclusive\"))\n",
    "    \n",
    "with open(os.path.join(\"..\", \"interim-outputs\",\"text\", \"latest_date_of_second_dose_for_due_third_doses.txt\"), 'r') as file:\n",
    "    latest_date_3rdDUE_fmt = file.read()\n",
    "\n",
    "with open(os.path.join(\"..\", \"interim-outputs\",\"text\", \"latest_date_of_second_dose_for_due_third_doses_specified_delay.txt\"), 'r') as file:\n",
    "    latest_date_3rdDUE_delay = file.read()\n",
    "\n",
    "latest_date_3rdDUE_delay_abbreviated = abbreviate_time_period(latest_date_3rdDUE_delay)\n",
    "\n",
    "additional_stats = pd.read_csv(os.path.join(\"..\", \"interim-outputs\", \"text\", \"additional_stats_third_dose.txt\")).set_index(\"Unnamed: 0\")\n"
   ]
  },
  {
   "cell_type": "code",
   "execution_count": null,
   "metadata": {},
   "outputs": [],
   "source": [
    "display(Markdown(f\"This report is intended to highlight any differences between subgroups of priority cohorts in receiving 'booster' doses (or third primary doses where eligible), at least {latest_date_3rdDUE_delay} after their second dose.\"))\n",
    "\n",
    "display(Markdown(\n",
    "    f\"### Only persons who had their second dose at least {latest_date_3rdDUE_delay} ago (**{latest_date_3rdDUE_fmt}**) are included in the 'due' group.\"))\n",
    "\n",
    "display(Markdown(f\"##### \\n\"\n",
    "                 f\"### Vaccine types\\n\"\n",
    "                 f\"**Note:** numbers may not sum to 100% as it is not always possible to determine vaccine type given, and patients occasionally have more than one brand recorded on the same day.\"))\n",
    "\n",
    "for x in additional_stats.index[0:3]:\n",
    "    display(Markdown(f\"{x}: {additional_stats.loc[x][0]}\\n\"))\n"
   ]
  },
  {
   "cell_type": "markdown",
   "metadata": {},
   "source": [
    "## Contents\n",
    "\n",
    "- **Tables and figures:** Cumulative third dose vaccination figures among:**\n",
    "    - [**80+** population](#Cumulative-third-dose-vaccination-figures-among-80+-population)\n",
    "    - [**70-79** population](#Cumulative-third-dose-vaccination-figures-among-70-79-population)\n",
    "    - [**Care home** population](#Cumulative-third-dose-vaccination-figures-among-care-home-population)\n",
    "    - <a href=\"#Cumulative-third-dose-vaccination-figures-among-shielding-(aged-16-69)-population\"><strong>Shielding (aged 16-69)</strong> population</a>\n",
    "    - [**65-69** population](#Cumulative-third-dose-vaccination-figures-among-65-69-population)\n",
    "    - <a href=\"#Cumulative-third-dose-vaccination-figures-among-Learning-Disabilities-(aged-16-64)-population\"><strong>LD (aged 16-64)</strong> population</a>\n",
    "    - [**60-64** population](#Cumulative-third-dose-vaccination-figures-among-60-64-population)\n",
    "    - [**55-59** population](#Cumulative-third-dose-vaccination-figures-among-55-59-population)\n",
    "    - [**50-54** population](#Cumulative-third-dose-vaccination-figures-among-50-54-population)\n",
    "    - [**40-49** population](#Cumulative-third-dose-vaccination-figures-among-40-49-population)\n",
    "    - [**30-39** population](#Cumulative-third-dose-vaccination-figures-among-30-39-population)\n",
    "    - [**18-29** population](#Cumulative-third-dose-vaccination-figures-among-18-29-population)\n",
    "    - [**All groups (Summary)**](#Summary)\n"
   ]
  },
  {
   "cell_type": "code",
   "execution_count": null,
   "metadata": {},
   "outputs": [],
   "source": [
    "with open('../lib/group_definitions.txt') as f:\n",
    "    group_defs = f.read()\n",
    "    display(Markdown(group_defs))"
   ]
  },
  {
   "cell_type": "code",
   "execution_count": null,
   "metadata": {},
   "outputs": [],
   "source": [
    "tablelist = find_and_sort_filenames(\"tables\", by_demographics_or_population=\"population\", \n",
    "                                    pre_string=\"among \", tail_string=\" population.csv\",\n",
    "                                    population_subset=f\"Cumulative second dose {latest_date_3rdDUE_delay_abbreviated} ago\",\n",
    "                                    files_to_exclude=[\n",
    "                                        f\"Cumulative second dose {latest_date_3rdDUE_delay_abbreviated} ago vaccination figures among 16-17 population.csv\"],\n",
    "                                    )\n",
    "    \n",
    "# get 3rd dose figures for each group\n",
    "tablelist_2nd = find_and_sort_filenames(\"tables\", by_demographics_or_population=\"population\", \n",
    "                                        pre_string=\"among \", tail_string=\" population.csv\",\n",
    "                                        population_subset=\"Cumulative third dose vaccination\",\n",
    "                                        files_to_exclude=[\"Cumulative third dose vaccination figures among 16-17 population.csv\"],\n",
    "                                        )\n",
    "\n",
    "\n",
    "second_third_doses(tablelist, tablelist_2nd, cohorts=[\"80+\", \"70-79\", \"care home\", \"shielding (aged 16-69)\", \"65-69\", \"60-64\", \"55-59\", \"50-54\", \"LD (aged 16-64)\", \"40-49\", \"30-39\",\"18-29\"], dose_type=\"Third\", time_period=latest_date_3rdDUE_delay,\n",
    "                   max_ylim=100,\n",
    "                   latest_date_fmt=latest_date_fmt,\n",
    "                   latest_date_fmt_2=latest_date_3rdDUE_fmt, \n",
    "                   backend=backend, suffix = \"_tpp\")"
   ]
  }
 ],
 "metadata": {
  "interpreter": {
   "hash": "de1343822d6e7d7aeea8796be9d48304b0fa3610166e8740495ec86b33c71a9e"
  },
  "jupytext": {
   "cell_metadata_filter": "all",
   "notebook_metadata_filter": "all,-language_info",
   "text_representation": {
    "extension": ".py",
    "format_name": "light",
    "format_version": "1.5",
    "jupytext_version": "1.3.3"
   }
  },
  "kernelspec": {
   "display_name": "Python 3.8.11 ('base')",
   "language": "python",
   "name": "python3"
  },
  "language_info": {
   "codemirror_mode": {
    "name": "ipython",
    "version": 3
   },
   "file_extension": ".py",
   "mimetype": "text/x-python",
   "name": "python",
   "nbconvert_exporter": "python",
   "pygments_lexer": "ipython3",
   "version": "3.8.11"
  }
 },
 "nbformat": 4,
 "nbformat_minor": 4
}
