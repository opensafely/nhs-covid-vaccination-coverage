{
 "cells": [
  {
   "cell_type": "markdown",
   "metadata": {},
   "source": [
    "# OpenSAFELY COVID Vaccine coverage report: Second doses "
   ]
  },
  {
   "cell_type": "markdown",
   "metadata": {},
   "source": [
    "OpenSAFELY is a new secure analytics platform for electronic patient records built on behalf of NHS England to deliver urgent academic and operational research during the pandemic. \n",
    "\n",
    "This is an extension of our [regular weekly report](https://reports.opensafely.org/reports/vaccine-coverage/) on COVID-19 vaccination coverage in England using data from 40% of general practices that use TPP electronic health record software. **The data requires careful interpretation and there are a number of caveats. Please read the full detail about our methods and discussion of our earlier results (as of 17 March 2021) in our [peer-reviewed publication in the British Journal of General Practice](https://doi.org/10.3399/BJGP.2021.0376).** \n",
    "\n",
    "The full analytical methods behind the latest results in this report are available [here](https://github.com/opensafely/nhs-covid-vaccination-uptake).\n",
    "\n",
    "**Update: Our vaccine reports are currently published monthly.  If you rely on more regular data updates for your own reporting or analysis please contact team@opensafely.org to let us know.**"
   ]
  },
  {
   "cell_type": "markdown",
   "metadata": {},
   "source": [
    "## Second doses"
   ]
  },
  {
   "cell_type": "markdown",
   "metadata": {},
   "source": [
    "**Please note** This report is intended to highlight any differences between subgroups of priority cohorts in receiving second doses, only including those which are due (i.e. where at least 14 weeks has passed since the first dose). **It is therefore NOT a comprehensive view of all second doses given to date** - to see these figures please refer to the main report. "
   ]
  },
  {
   "cell_type": "code",
   "execution_count": null,
   "metadata": {
    "lines_to_end_of_cell_marker": 2
   },
   "outputs": [],
   "source": [
    "from datetime import datetime\n",
    "%matplotlib inline\n",
    "%config InlineBackend.figure_format='png'\n",
    "\n",
    "from IPython.display import display, Markdown\n",
    "import os\n",
    "import pandas as pd\n",
    "pd.set_option(\"display.max_rows\", 200)\n",
    "import sys\n",
    "sys.path.append('../lib/')\n",
    "from create_report import find_and_sort_filenames\n",
    "from second_third_doses import *\n",
    "\n",
    "backend = os.getenv(\"OPENSAFELY_BACKEND\", \"expectations\")\n",
    "suffix = \"_tpp\"\n",
    "\n",
    "display(Markdown(f\"### Report last updated **{datetime.today().strftime('%d %b %Y')}**\"))\n",
    "\n",
    "with open(os.path.join(\"..\", \"interim-outputs\",\"text\", \"latest_date.txt\"), 'r') as file:\n",
    "    latest_date_fmt = file.read()\n",
    "    display(Markdown(f\"### Second dose vaccinations included up to **{latest_date_fmt}** inclusive\"))\n",
    "    \n",
    "with open(os.path.join(\"..\", \"interim-outputs\",\"text\", \"latest_date_of_first_dose_for_due_second_doses.txt\"), 'r') as file:\n",
    "    latest_date_14w_fmt = file.read()\n",
    "    \n",
    "display(Markdown(\n",
    "    f\"### Only persons who had their first dose between the start of the campaign (**7 Dec 2020**) \\\n",
    "    and 14 weeks ago (**{latest_date_14w_fmt}**) are included in the 'due' group.\"))"
   ]
  },
  {
   "cell_type": "markdown",
   "metadata": {},
   "source": [
    "##  \n",
    "## Contents\n",
    "\n",
    "- **Tables and figures:** Cumulative second dose vaccination figures among:**\n",
    "    - [**80+** population](#Cumulative-second-dose-vaccination-figures-among-80+-population)\n",
    "    - [**70-79** population](#Cumulative-second-dose-vaccination-figures-among-70-79-population)\n",
    "    - [**Care home** population](#Cumulative-second-dose-vaccination-figures-among-care-home-population)\n",
    "    - <a href=\"#Cumulative-second-dose-vaccination-figures-among-shielding-(aged-16-69)-population\"><strong>Shielding (aged 16-69)</strong> population</a>\n",
    "    - [**65-69** population](#Cumulative-second-dose-vaccination-figures-among-65-69-population)\n",
    "    - <a href=\"#Cumulative-second-dose-vaccination-figures-among-Learning-Disabilities-(aged-16-64)-population\"><strong>LD (aged 16-64)</strong> population</a>\n",
    "    - [**60-64** population](#Cumulative-second-dose-vaccination-figures-among-60-64-population)\n",
    "    - [**55-59** population](#Cumulative-second-dose-vaccination-figures-among-55-59-population)\n",
    "    - [**50-54** population](#Cumulative-second-dose-vaccination-figures-among-50-54-population)\n",
    "    - [**40-49** population](#Cumulative-second-dose-vaccination-figures-among-40-49-population)\n",
    "    - [**30-39** population](#Cumulative-second-dose-vaccination-figures-among-30-39-population)\n",
    "    - [**18-29** population](#Cumulative-second-dose-vaccination-figures-among-18-29-population)\n",
    "    - [**16-17** population](#Cumulative-second-dose-vaccination-figures-among-16-17-population)\n",
    "    - [**All groups (Summary)**](#Summary)\n",
    "\n"
   ]
  },
  {
   "cell_type": "code",
   "execution_count": null,
   "metadata": {},
   "outputs": [],
   "source": [
    "with open('../lib/group_definitions.txt') as f:\n",
    "    group_defs = f.read()\n",
    "    display(Markdown(group_defs))"
   ]
  },
  {
   "cell_type": "code",
   "execution_count": null,
   "metadata": {},
   "outputs": [],
   "source": [
    "tablelist = find_and_sort_filenames(\"tables\", by_demographics_or_population=\"population\", \n",
    "                                    pre_string=\"among \", tail_string=\" population.csv\",\n",
    "                                    population_subset=\"Cumulative first dose 14w ago\",\n",
    "                                    # files_to_exclude=[\"Cumulative first dose 14w ago vaccination figures among 16-17 population.csv\"],\n",
    "                                    )\n",
    "    \n",
    "# get 2nd dose figures for each group\n",
    "tablelist_2nd = find_and_sort_filenames(\"tables\", by_demographics_or_population=\"population\", \n",
    "                                        pre_string=\"among \", tail_string=\" population.csv\",\n",
    "                                        population_subset=\"Cumulative second dose vaccination\",\n",
    "                                        # files_to_exclude=[\"Cumulative second dose vaccination figures among 16-17 population.csv\"],\n",
    "                                        )\n",
    "\n",
    "\n",
    "second_third_doses(tablelist, tablelist_2nd, dose_type=\"Second\", time_period=\"14 weeks\",\n",
    "                   latest_date_fmt=latest_date_fmt,\n",
    "                   latest_date_fmt_2=latest_date_14w_fmt, \n",
    "                   backend=backend, suffix = \"_tpp\")\n",
    "   "
   ]
  }
 ],
 "metadata": {
  "interpreter": {
   "hash": "de1343822d6e7d7aeea8796be9d48304b0fa3610166e8740495ec86b33c71a9e"
  },
  "jupytext": {
   "cell_metadata_filter": "all",
   "notebook_metadata_filter": "all,-language_info",
   "text_representation": {
    "extension": ".py",
    "format_name": "light",
    "format_version": "1.5",
    "jupytext_version": "1.3.3"
   }
  },
  "kernelspec": {
   "display_name": "Python 3.8.11 ('base')",
   "language": "python",
   "name": "python3"
  },
  "language_info": {
   "codemirror_mode": {
    "name": "ipython",
    "version": 3
   },
   "file_extension": ".py",
   "mimetype": "text/x-python",
   "name": "python",
   "nbconvert_exporter": "python",
   "pygments_lexer": "ipython3",
   "version": "3.8.11"
  }
 },
 "nbformat": 4,
 "nbformat_minor": 4
}
