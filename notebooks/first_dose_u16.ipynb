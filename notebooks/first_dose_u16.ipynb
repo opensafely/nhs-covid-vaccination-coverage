{
 "cells": [
  {
   "cell_type": "markdown",
   "metadata": {},
   "source": [
    "\n",
    "# OpenSAFELY COVID Vaccine coverage report: first doses for 5 to 15 year olds\n",
    "\n",
    "OpenSAFELY is a new secure analytics platform for electronic patient records built on behalf of NHS England to deliver urgent academic and operational research during the pandemic. \n",
    "\n",
    "Since December 2020 we have been reporting on COVID-19 vaccination coverage (for patients aged 16 and over) in England using data from 40% of general practices that use TPP electronic health record software. In [September 2021](https://www.england.nhs.uk/2021/09/nhs-rolls-out-covid-19-jab-to-children-aged-12-to-15/), the COVID vaccination programme was extended to 12-15 year olds. The [Living with Covid guidance](https://www.gov.uk/government/publications/covid-19-response-living-with-covid-19) was updated in February 2022 to advise that vaccines would be offered to children between the ages of 5 and 11 from Spring 2022. As such, we are now regularly reporting on vaccination coverage for children between the age of 5 and 15. \n",
    "\n",
    "**The data requires careful interpretation and there are a number of caveats, please refer to our peer-reviewed publications (https://doi.org/10.3399/BJGP.2021.0376) for further details. While this publication describes an analysis of vaccine uptake in those 16 and over, it is relevant here as the core functionality has been repurposed to generate our vaccine coverage reports for 5-15 year olds.**\n",
    "\n",
    "The full analytical methods behind the latest results in this report are available [here](https://github.com/opensafely/nhs-covid-vaccination-uptake). "
   ]
  },
  {
   "cell_type": "code",
   "execution_count": null,
   "metadata": {},
   "outputs": [],
   "source": [
    "from datetime import datetime\n",
    "from IPython.display import display, Markdown\n",
    "import os\n",
    "import pandas as pd\n",
    "\n",
    "pd.set_option(\"display.max_rows\", 200)\n",
    "\n",
    "group_string = \"u16\"\n",
    "suffix = f\"_{group_string}_tpp\""
   ]
  },
  {
   "cell_type": "markdown",
   "metadata": {},
   "source": [
    "## Vaccines approved for use in children\n",
    "\n",
    "The 30 microgram dose of the Pfizer BioNTech COVID-19 vaccine BNT162b2 was approved for use in 12-15 year olds in June 2021. In December 2021, the MHRA approved a 10 microgram dose for children aged 5-11 years.  Where the paediatric formulation is not available, 10 micrograms (0.1ml) of the diluted adult vaccine may be used as an alternative. The Moderna vaccine has also been approved for use in 12-17 year olds.\n",
    "\n",
    "More information regarding vaccines approved for use is available in [The Green Book, chapter 14a](https://www.gov.uk/government/publications/covid-19-the-green-book-chapter-14a), see specifically the \"Vaccine Effectiveness\" (p.6-7) and \"Dosing and Schedule\" (p. 12-13) sections."
   ]
  },
  {
   "cell_type": "markdown",
   "metadata": {},
   "source": [
    "#### \n",
    "## Contents\n",
    "- **<a href=#summary>Overview of all vaccination figures to date </a>**\n",
    "<br>\n",
    "<br>\n",
    "- **<a href=#brands>Brand counts (first dose)</a>**\n",
    "<br>\n",
    "<br>\n",
    "- **<a href=#summarychart>Summary charts (first dose)</a>**\n",
    "<br>\n",
    "<br>\n",
    "- **Charts:** Trends in first dose vaccination coverage according to demographic/clinical features, for:\n",
    " - <a href=#5-11-population>5-11 population</a>\n",
    " - <a href=#12-15-population>12-15 population</a>\n",
    "<br>\n",
    "<br>\n",
    "- **Tables:** Current first dose vaccination coverage according to demographic/clinical features, for:\n",
    "  - <a href=#Cumulative-vaccination-figures-among-5-11-population>5-11 population</a>\n",
    "  - <a href=#Cumulative-vaccination-figures-among-12-15-population>12-15 population</a> \n",
    "<br>\n",
    "<br>\n",
    "- **Appendix:** <a href=#ethnicity>Proportion of each population group for whom ethnicity is known</a>\n"
   ]
  },
  {
   "cell_type": "code",
   "execution_count": null,
   "metadata": {},
   "outputs": [],
   "source": [
    "with open(\n",
    "    os.path.join(\"..\", \"interim-outputs\", group_string, \"text\", \"latest_date.txt\"), \"r\"\n",
    ") as file:\n",
    "    latest_date_fmt = file.read()\n",
    "    display(\n",
    "        Markdown(f\"### Vaccinations included up to **{latest_date_fmt}** inclusive\")\n",
    "    )"
   ]
  },
  {
   "cell_type": "code",
   "execution_count": null,
   "metadata": {},
   "outputs": [],
   "source": [
    "display(\n",
    "    Markdown(f\"### Report last updated **{datetime.today().strftime('%d %b %Y')}**\")\n",
    ")"
   ]
  },
  {
   "cell_type": "markdown",
   "metadata": {},
   "source": [
    "\n",
    "## Overview of Vaccination Figures to date <a name='summary' />"
   ]
  },
  {
   "cell_type": "code",
   "execution_count": null,
   "metadata": {},
   "outputs": [],
   "source": [
    "import json\n",
    "\n",
    "summary_stats_1 = pd.read_csv(\n",
    "    os.path.join(\n",
    "        \"..\", \"interim-outputs\", group_string, \"text\", \"summary_stats_first_dose.txt\"\n",
    "    )\n",
    ").set_index(\"Unnamed: 0\")\n",
    "summary_stats_2 = pd.read_csv(\n",
    "    os.path.join(\n",
    "        \"..\", \"interim-outputs\", group_string, \"text\", \"summary_stats_second_dose.txt\"\n",
    "    )\n",
    ").set_index(\"Unnamed: 0\")\n",
    "additional_stats = pd.read_csv(\n",
    "    os.path.join(\n",
    "        \"..\", \"interim-outputs\", group_string, \"text\", \"additional_stats_first_dose.txt\"\n",
    "    )\n",
    ").set_index(\"Unnamed: 0\")\n",
    "group_brand_counts = pd.read_csv(\n",
    "    os.path.join(\n",
    "        \"..\", \"interim-outputs\", group_string, \"text\", \"summary_stats_brand_counts.txt\"\n",
    "    )\n",
    ").set_index([\"Group\", \"Vaccine brand\"])\n",
    "group_brand_counts = group_brand_counts[[\"first_doses\", \"first_doses_perc\"]]"
   ]
  },
  {
   "cell_type": "code",
   "execution_count": null,
   "metadata": {},
   "outputs": [],
   "source": [
    "# first display group definitions/caveats\n",
    "with open(f\"../lib/group_definitions_{group_string}.txt\") as f:\n",
    "    group_defs = f.read()\n",
    "    display(Markdown(f\"{group_defs} \\n \\n #### \\n\"))\n",
    "\n",
    "# display summary table\n",
    "out = summary_stats_1.join(summary_stats_2)\n",
    "# out = out.join(summary_stats_3)\n",
    "out.index = out.index.str.replace(f' in {suffix.replace(\"_\",\"\").upper()}', \"\")\n",
    "out.index = out.index.rename(\"Group\")\n",
    "display(out)"
   ]
  },
  {
   "cell_type": "code",
   "execution_count": null,
   "metadata": {},
   "outputs": [],
   "source": [
    "display(\n",
    "    Markdown(\n",
    "        f\"##### \\n\"\n",
    "        \"**Notes**\\n\"\n",
    "        \"\\n- Patient counts are rounded to nearest 7\\n\"\n",
    "        \"\\n- Second doses are at least 49 days after the first\\n\"\n",
    "        \"\\n- All second doses given in these timescales are counted whether or not they were 'due' according to the relevant dosing schedule at the time\\n\"\n",
    "    )\n",
    ")\n",
    "\n",
    "display(Markdown(\"##### \\n\"))"
   ]
  },
  {
   "cell_type": "markdown",
   "metadata": {},
   "source": [
    "## Brand counts <a name='brands' />"
   ]
  },
  {
   "cell_type": "markdown",
   "metadata": {},
   "source": [
    "Note that the total in this table may not be identical to that provided elsewhere\n",
    "and percentages may not sum to 100%. There are several aspects of the recorded data\n",
    "and analysis that impact on these totals:\n",
    "\n",
    "* It is not always possible to determine the vaccine type given; these patients are removed from the brand totals\n",
    "* Occasionally patients have more than one brand recorded on the same day; these patients are removed from the brand totals\n",
    "* We round to seven to mitigate against risk of disclosure; these totals are calculated from previously rounded numbers "
   ]
  },
  {
   "cell_type": "code",
   "execution_count": null,
   "metadata": {},
   "outputs": [],
   "source": [
    "brand_summary = group_brand_counts.rename(\n",
    "    columns={\n",
    "        \"first_doses\": f\"First doses as at {latest_date_fmt}\",\n",
    "        \"first_doses_perc\": f\"% first doses as at {latest_date_fmt}\",\n",
    "    }\n",
    ")\n",
    "\n",
    "display(brand_summary)"
   ]
  },
  {
   "cell_type": "code",
   "execution_count": null,
   "metadata": {},
   "outputs": [],
   "source": [
    "display(\n",
    "    Markdown(\n",
    "        f\"##### \\n\"\n",
    "        \"**Notes**\\n\"\n",
    "        \"\\n- Patient counts are rounded to nearest 7\\n\"\n",
    "        \"\\n- 'Other' vaccines are Oxford-AZ or Moderna\\n\"\n",
    "    )\n",
    ")\n",
    "\n",
    "display(Markdown(\"##### \\n\"))"
   ]
  },
  {
   "cell_type": "markdown",
   "metadata": {},
   "source": [
    "# \n",
    "\n",
    "## Summary Charts <a name='summarychart' />"
   ]
  },
  {
   "cell_type": "code",
   "execution_count": null,
   "metadata": {},
   "outputs": [],
   "source": [
    "import sys\n",
    "\n",
    "sys.path.append(\"../lib/\")\n",
    "from create_report import *\n",
    "from image_formats import pick_image_format\n",
    "\n",
    "IMAGE_FORMAT = pick_image_format()\n",
    "\n",
    "show_chart(\n",
    "    f\"Cumulative first dose vaccination figures by risk status.{IMAGE_FORMAT.extension}\",\n",
    "    IMAGE_FORMAT,\n",
    "    org_breakdown=group_string,\n",
    "    title=\"off\",\n",
    ")\n",
    "\n",
    "display(\n",
    "    Markdown(\n",
    "        \"**Note:** The 'In a risk group' includes those identified as being at higher risk of severe COVID-19 (for details see the <a href='#Group-definitions'>Group Definitions</a> section).\"\n",
    "    )\n",
    ")\n",
    "\n",
    "show_chart(\n",
    "    f\"Cumulative first dose vaccination figures by age group.{IMAGE_FORMAT.extension}\",\n",
    "    IMAGE_FORMAT,\n",
    "    org_breakdown=group_string,\n",
    "    title=\"off\",\n",
    ")"
   ]
  },
  {
   "cell_type": "markdown",
   "metadata": {},
   "source": [
    " \n",
    "<!-- EXAMPLE PRIORITY GROUP BREAKDOWN ------------\n",
    "## Trends in vaccination rates of **80+** population according to demographic/clinical features, cumulatively by day. <a name='charts80' />\n",
    "**\\*_Latest overall cohort rate_ calculated as at latest date for vaccinations recorded across all TPP practices.**\n",
    "------------------------------------------------->"
   ]
  },
  {
   "cell_type": "code",
   "execution_count": null,
   "metadata": {},
   "outputs": [],
   "source": [
    "display(Markdown(\"## 5-11 population\"))\n",
    "\n",
    "chartlist1 = find_and_sort_filenames(\n",
    "    foldername=\"figures\",\n",
    "    org_breakdown=\"u16\",\n",
    "    population_subset=\"5-11\",\n",
    "    file_extension=IMAGE_FORMAT.extension,\n",
    "    files_to_exclude=[\n",
    "        f\"Cumulative plot of time to second dose among 5-11 population by all.{IMAGE_FORMAT.extension}\"\n",
    "    ],\n",
    ")\n",
    "\n",
    "for item in chartlist1:\n",
    "    show_chart(item, IMAGE_FORMAT, org_breakdown=\"u16\")"
   ]
  },
  {
   "cell_type": "code",
   "execution_count": null,
   "metadata": {},
   "outputs": [],
   "source": [
    "display(Markdown(\"## 12-15 population\"))\n",
    "\n",
    "chartlist2 = find_and_sort_filenames(\n",
    "    foldername=\"figures\",\n",
    "    org_breakdown=\"u16\",\n",
    "    population_subset=\"12-15\",\n",
    "    file_extension=IMAGE_FORMAT.extension,\n",
    "    files_to_exclude=[\n",
    "        f\"Cumulative plot of time to second dose among 12-15 population by all.{IMAGE_FORMAT.extension}\"\n",
    "    ],\n",
    ")\n",
    "\n",
    "for item in chartlist2:\n",
    "    show_chart(item, IMAGE_FORMAT, org_breakdown=\"u16\")"
   ]
  },
  {
   "cell_type": "markdown",
   "metadata": {},
   "source": [
    "# \n",
    "## Vaccination rates of each eligible population group, according to demographic/clinical features  <a name='tables' />\n",
    "  - <a href=#Cumulative-vaccination-figures-among-5-11-population>5-11</a>  population\n",
    "  - <a href=#Cumulative-vaccination-figures-among-12-15-population>12-15</a>  population\n",
    "<br>"
   ]
  },
  {
   "cell_type": "code",
   "execution_count": null,
   "metadata": {},
   "outputs": [],
   "source": [
    "tablelist = find_and_sort_filenames(\n",
    "    \"tables\",\n",
    "    by_demographics_or_population=\"population\",\n",
    "    org_breakdown=group_string,\n",
    "    pre_string=\"among \",\n",
    "    tail_string=\" population.csv\",\n",
    "    population_subset=\"Cumulative vaccination figures\",\n",
    "    files_to_exclude=[],\n",
    ")"
   ]
  },
  {
   "cell_type": "code",
   "execution_count": null,
   "metadata": {},
   "outputs": [],
   "source": [
    "for filename in tablelist:\n",
    "    df, title = import_table(\n",
    "        filename,\n",
    "        latest_date_fmt,\n",
    "        show_carehomes=True,\n",
    "        org_breakdown=group_string,\n",
    "        suffix=suffix,\n",
    "    )\n",
    "\n",
    "    ### Can't embed this in the f string below due to curly brackets\n",
    "    date_string = latest_date_fmt.replace(\" 202\\d{1}\", \"\")\n",
    "\n",
    "    column_list = [f\"Vaccinated at {date_string} (n)\", f\"Total eligible\"]\n",
    "\n",
    "    show_table(\n",
    "        df, title, latest_date_fmt, count_columns=column_list, show_carehomes=True\n",
    "    )"
   ]
  },
  {
   "cell_type": "markdown",
   "metadata": {},
   "source": [
    "### \n",
    "## Appendix \n",
    "### <a id='ethnicity'> Ethnicity coverage for each eligible group </a>\n",
    "\n",
    "The table below shows the proportion of each population group for whom ethnicity is known."
   ]
  },
  {
   "cell_type": "code",
   "execution_count": null,
   "metadata": {},
   "outputs": [],
   "source": [
    "from create_report import get_savepath\n",
    "\n",
    "savepath = get_savepath(subfolder=group_string)\n",
    "tab = pd.read_csv(os.path.join(savepath[\"text\"], \"ethnicity_coverage.csv\")).set_index(\n",
    "    \"group\"\n",
    ")\n",
    "# tab.index = tab.index.str.replace(\"vaccinated 18-29\", \"18-29\")\n",
    "display(\n",
    "    Markdown(\n",
    "        \"- Ethnicity information is primarily retrieved from GP records. \\\n",
    "                 \\n- Where missing in GP records, as of March 8 2021, it is then retrieved from hospital records if present. \\\n",
    "                 \\n - For patients with multiple different ethnicities recorded, we use the most common non-missing ethnicity \\\n",
    "                 \\n recorded in inpatients, outpatients or A&E over the last ~5 years (or latest if tied).\\\n",
    "                 \\n- Patient counts are rounded to the nearest 7\"\n",
    "    )\n",
    ")\n",
    "\n",
    "tab[[\"total population (n)\", \"ethnicity coverage (%)\"]]"
   ]
  }
 ],
 "metadata": {
  "anaconda-cloud": {},
  "interpreter": {
   "hash": "de1343822d6e7d7aeea8796be9d48304b0fa3610166e8740495ec86b33c71a9e"
  },
  "jupytext": {
   "cell_metadata_filter": "all",
   "notebook_metadata_filter": "all,-language_info",
   "text_representation": {
    "extension": ".py",
    "format_name": "light",
    "format_version": "1.5",
    "jupytext_version": "1.3.3"
   }
  },
  "kernelspec": {
   "display_name": "Python 3.8.11 ('base')",
   "language": "python",
   "name": "python3"
  },
  "language_info": {
   "codemirror_mode": {
    "name": "ipython",
    "version": 3
   },
   "file_extension": ".py",
   "mimetype": "text/x-python",
   "name": "python",
   "nbconvert_exporter": "python",
   "pygments_lexer": "ipython3",
   "version": "3.8.11"
  }
 },
 "nbformat": 4,
 "nbformat_minor": 4
}
