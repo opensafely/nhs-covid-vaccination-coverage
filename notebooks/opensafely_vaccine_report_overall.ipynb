{
 "cells": [
  {
   "cell_type": "markdown",
   "metadata": {},
   "source": [
    "# OpenSAFELY COVID Vaccine coverage report\n",
    "\n",
    "OpenSAFELY is a new secure analytics platform for electronic patient records built on behalf of NHS England to deliver urgent academic and operational research during the pandemic. \n",
    "\n",
    "This is our regular weekly report on COVID-19 vaccination coverage in England using data from 40% of general practices that use TPP electronic health record software. **The data requires careful interpretation and there are a number of caveats. Please read the full detail about our methods and discussion of our earlier results (as of 17 March 2021) in our [peer-reviewed publication in the British Journal of General Practice](https://doi.org/10.3399/BJGP.2021.0376).** \n",
    "\n",
    "The full analytical methods behind the latest results in this report are available [here](https://github.com/opensafely/nhs-covid-vaccination-uptake).\n",
    "\n",
    "**Update: Our vaccine reports are currently published monthly.  If you rely on more regular data updates for your own reporting or analysis please contact team@opensafely.org to let us know.**"
   ]
  },
  {
   "cell_type": "code",
   "execution_count": null,
   "metadata": {},
   "outputs": [],
   "source": [
    "from datetime import datetime\n",
    "from IPython.display import display, Markdown\n",
    "import os\n",
    "import pandas as pd\n",
    "pd.set_option(\"display.max_rows\", 200)\n",
    "\n",
    "suffix = \"_tpp\"\n",
    "\n",
    "display(Markdown(f\"### Report last updated **{datetime.today().strftime('%d %b %Y')}**\"))\n",
    "\n",
    "with open(os.path.join(\"..\", \"interim-outputs\",\"text\", \"latest_date.txt\"), 'r') as file:\n",
    "    latest_date_fmt = file.read()\n",
    "    display(Markdown(f\"### Vaccinations included up to **{latest_date_fmt}** inclusive\"))\n",
    "\n",
    "with open(os.path.join(\"..\", \"interim-outputs\",\"text\", \"latest_date_of_first_dose_for_due_second_doses.txt\"), 'r') as file:\n",
    "    latest_date_13w_fmt = file.read()"
   ]
  },
  {
   "cell_type": "markdown",
   "metadata": {},
   "source": [
    "#### \n",
    "## Contents:\n",
    "- **<a href=#summary>Overview</a>**\n",
    "<br>\n",
    "<br>\n",
    "- **<a href=#summarychart>Summary Charts</a>**\n",
    "<br>\n",
    "<br>\n",
    "- **Charts:** Trends in first dose vaccination coverage according to demographic/clinical features, for:\n",
    " - <a href=#charts80>80+ population</a>\n",
    " - <a href=#charts70>70-79 population</a>\n",
    " - <a href=#charts_shield>shielding (aged 16-69) population</a>\n",
    " - <a href=#charts65>65-69 population</a>\n",
    " - <a href=#charts60>60-64 population</a>\n",
    " - <a href=#charts55>55-59 population</a>\n",
    " - <a href=#charts50>50-54 population</a>\n",
    " - <a href=#charts40>40-49 population</a>\n",
    "<br>\n",
    "<br>\n",
    "- Appendix: <a href=#ethnicity>Proportion of each population group for whom ethnicity is known</a>\n"
   ]
  },
  {
   "cell_type": "markdown",
   "metadata": {},
   "source": [
    "\n",
    "## Overview of Vaccination Figures to date <a name='summary' />"
   ]
  },
  {
   "cell_type": "code",
   "execution_count": null,
   "metadata": {},
   "outputs": [],
   "source": [
    "import json\n",
    "summary_stats_1 = pd.read_csv(os.path.join(\"..\", \"interim-outputs\",\"text\", \"summary_stats_first_dose.txt\")).set_index(\"Unnamed: 0\")\n",
    "summary_stats_2 = pd.read_csv(os.path.join(\"..\", \"interim-outputs\",\"text\", \"summary_stats_second_dose.txt\")).set_index(\"Unnamed: 0\")\n",
    "summary_stats_3 = pd.read_csv(os.path.join(\"..\", \"interim-outputs\",\"text\", \"summary_stats_third_dose.txt\")).set_index(\"Unnamed: 0\")\n",
    "additional_stats = pd.read_csv(os.path.join(\"..\", \"interim-outputs\",\"text\", \"additional_stats_first_dose.txt\")).set_index(\"Unnamed: 0\")\n",
    "\n",
    "# first display group definitions/caveats\n",
    "with open('../lib/group_definitions.txt') as f:\n",
    "    group_defs = f.read()\n",
    "    display(Markdown(f\"{group_defs} #### \\n\"))\n",
    "    \n",
    "# display summary table\n",
    "out = summary_stats_1.join(summary_stats_2)\n",
    "out = out.join(summary_stats_3)\n",
    "out.index = out.index.rename(\"Group\")\n",
    "display(out)\n",
    "\n",
    "display(Markdown(f\"##### \\n\" \n",
    "                 \"**NB** Patient counts are rounded to nearest 7\\n\"\n",
    "                 \"\\nSecond doses are at least 19 days after the first; third doses at least 8 weeks after the second;\\n\"\n",
    "                 \"\\nAll second and third/booster doses given in these timescales are counted whether or not they were 'due' according to the relevant dosing schedule at the time.\\n\"\n",
    "                \"##### \\n\" ))\n",
    "\n",
    "display(Markdown(f\"##### \\n\"\n",
    "                 f\"### Vaccine types\\n\"\n",
    "                 f\"**Note:** numbers may not sum to 100% as it is not always possible to determine vaccine type given, and patients occasionally have more than one brand recorded on the same day.\"))\n",
    "\n",
    "for x in additional_stats.index[0:3]:  \n",
    "    display(Markdown(f\"{x}: {additional_stats.loc[x][0]}\\n\"))\n",
    "    \n",
    "display(Markdown(f\"### Second doses and dose combinations\" ))\n",
    "display(Markdown(\"**Note:** second dose figures are raw proportions and do not take into account how many are due, which is likely to vary substantially by brand.<br>\\\n",
    "                For more detailed analysis please refer to our [second dose report](https://reports.opensafely.org/reports/vaccine-coverage-second-doses/)\"))\n",
    "\n",
    "for x in additional_stats.index[3:7]:  \n",
    "    display(Markdown(f\"{x}: {additional_stats.loc[x][0]}\\n\"))\n",
    "    \n",
    "display(Markdown(\"<br>**Note:** mixed doses counts patients with first and second doses at least 19 days apart, \\\n",
    "                  excluding patients with two different brands recorded on the same day \\\n",
    "                  or recorded on a date prior to when the given brand was available in the UK\"))\n",
    "       \n",
    "for x in additional_stats.index[7:]:  \n",
    "    display(Markdown(f\"{x}: {additional_stats.loc[x][0]}\\n\"))\n",
    "\n",
    "    \n"
   ]
  },
  {
   "cell_type": "markdown",
   "metadata": {},
   "source": [
    "# \n",
    "\n",
    "## Summary Charts <a name='summarychart' />"
   ]
  },
  {
   "cell_type": "code",
   "execution_count": null,
   "metadata": {},
   "outputs": [],
   "source": [
    "import sys\n",
    "sys.path.append('../lib/')\n",
    "from create_report import *\n",
    "from image_formats import pick_image_format\n",
    "\n",
    "IMAGE_FORMAT = pick_image_format()\n",
    "\n",
    "show_chart(f\"Cumulative first dose vaccination figures by priority status.{IMAGE_FORMAT.extension}\", IMAGE_FORMAT, title=\"off\")\n",
    "display(Markdown(\"**Note:** 'Priority groups' only includes those identified as being in a priority group by our methodology. \\\n",
    "                'Others' includes everyone aged 18-49 except those who are shielding or have a learning disability.<br><br>\"))\n",
    "show_chart(f\"Cumulative first dose vaccination figures by priority group.{IMAGE_FORMAT.extension}\", IMAGE_FORMAT, title=\"off\")\n"
   ]
  },
  {
   "cell_type": "markdown",
   "metadata": {},
   "source": [
    "# \n",
    "## Trends in vaccination rates of **80+** population according to demographic/clinical features, cumulatively by day. <a name='charts80' />\n",
    "**\\*_Latest overall cohort rate_ calculated as at latest date for vaccinations recorded across all TPP practices.**"
   ]
  },
  {
   "cell_type": "code",
   "execution_count": null,
   "metadata": {},
   "outputs": [],
   "source": [
    "chartlist = find_and_sort_filenames(foldername=\"figures\", file_extension=IMAGE_FORMAT.extension)\n",
    "   \n",
    "display(Markdown(\"## 80+ population\"))\n",
    "for item in chartlist:\n",
    "    show_chart(item, IMAGE_FORMAT)"
   ]
  },
  {
   "cell_type": "markdown",
   "metadata": {},
   "source": [
    "# \n",
    "## Trends in vaccination rates of **70-79** population according to demographic/clinical features, cumulatively by day. <a name='charts70' />\n",
    "**\\*National rate calculated as at latest date for vaccinations recorded across all TPP practices.**\n",
    "    "
   ]
  },
  {
   "cell_type": "code",
   "execution_count": null,
   "metadata": {},
   "outputs": [],
   "source": [
    "display(Markdown(\"## 70-79 population\"))\n",
    "chartlist2 = find_and_sort_filenames(foldername=\"figures\", population_subset=\"70-79\", file_extension=IMAGE_FORMAT.extension)\n",
    "    \n",
    "for item in chartlist2:\n",
    "    show_chart(item, IMAGE_FORMAT)"
   ]
  },
  {
   "cell_type": "markdown",
   "metadata": {},
   "source": [
    "## \n",
    "## Trends in vaccination rates of **shielding** population according to demographic/clinical features, cumulatively by day. <a name='charts_shield' />\n",
    "**\\*National rate calculated as at latest date for vaccinations recorded across all TPP practices.**\n"
   ]
  },
  {
   "cell_type": "code",
   "execution_count": null,
   "metadata": {},
   "outputs": [],
   "source": [
    "display(Markdown(\"## Shielding population (aged 16-69)\"))\n",
    "chartlist2 = find_and_sort_filenames(foldername=\"figures\", population_subset=\"shielding (aged 16-69)\", file_extension=IMAGE_FORMAT.extension)\n",
    "    \n",
    "for item in chartlist2:\n",
    "    show_chart(item, IMAGE_FORMAT)"
   ]
  },
  {
   "cell_type": "markdown",
   "metadata": {},
   "source": [
    "## \n",
    "## Trends in vaccination rates of 65-69 population according to demographic/clinical features, cumulatively by day. <a name='charts65' />\n",
    "**\\*National rate calculated as at latest date for vaccinations recorded across all TPP practices.**"
   ]
  },
  {
   "cell_type": "code",
   "execution_count": null,
   "metadata": {},
   "outputs": [],
   "source": [
    "display(Markdown(\"## 65-69 population\"))\n",
    "chartlist2 = find_and_sort_filenames(foldername=\"figures\", population_subset=\"65-69\", file_extension=IMAGE_FORMAT.extension)\n",
    "    \n",
    "for item in chartlist2:\n",
    "    show_chart(item, IMAGE_FORMAT)"
   ]
  },
  {
   "cell_type": "markdown",
   "metadata": {},
   "source": [
    "## \n",
    "## Trends in vaccination rates of 60-64 population according to demographic/clinical features, cumulatively by day. <a name='charts60' />\n",
    "**\\*National rate calculated as at latest date for vaccinations recorded across all TPP practices.**\n"
   ]
  },
  {
   "cell_type": "code",
   "execution_count": null,
   "metadata": {},
   "outputs": [],
   "source": [
    "display(Markdown(\"## 60-64 population\"))\n",
    "chartlist2 = find_and_sort_filenames(foldername=\"figures\", population_subset=\"60-64\", file_extension=IMAGE_FORMAT.extension)\n",
    "    \n",
    "for item in chartlist2:\n",
    "    show_chart(item, IMAGE_FORMAT)"
   ]
  },
  {
   "cell_type": "markdown",
   "metadata": {},
   "source": [
    "## \n",
    "## Trends in vaccination rates of 55-59 population according to demographic/clinical features, cumulatively by day. <a name='charts55' />\n",
    "**\\*National rate calculated as at latest date for vaccinations recorded across all TPP practices.**"
   ]
  },
  {
   "cell_type": "code",
   "execution_count": null,
   "metadata": {},
   "outputs": [],
   "source": [
    "display(Markdown(\"## 55-59 population\"))\n",
    "chartlist2 = find_and_sort_filenames(foldername=\"figures\", population_subset=\"55-59\", file_extension=IMAGE_FORMAT.extension)\n",
    "    \n",
    "for item in chartlist2:\n",
    "    show_chart(item, IMAGE_FORMAT)"
   ]
  },
  {
   "cell_type": "markdown",
   "metadata": {},
   "source": [
    "## \n",
    "## Trends in vaccination rates of 50-54 population according to demographic/clinical features, cumulatively by day. <a name='charts50' />\n",
    "**\\*National rate calculated as at latest date for vaccinations recorded across all TPP practices.**\n",
    "\n",
    "+"
   ]
  },
  {
   "cell_type": "code",
   "execution_count": null,
   "metadata": {},
   "outputs": [],
   "source": [
    "display(Markdown(\"## 50-54 population\"))\n",
    "chartlist2 = find_and_sort_filenames(foldername=\"figures\", population_subset=\"50-54\", file_extension=IMAGE_FORMAT.extension)\n",
    "    \n",
    "for item in chartlist2:\n",
    "    show_chart(item, IMAGE_FORMAT)"
   ]
  },
  {
   "cell_type": "markdown",
   "metadata": {},
   "source": [
    "## \n",
    "## Trends in vaccination rates of 40-49 population according to demographic/clinical features, cumulatively by day. <a name='charts40' />\n",
    "**\\*National rate calculated as at latest date for vaccinations recorded across all TPP practices.**"
   ]
  },
  {
   "cell_type": "code",
   "execution_count": null,
   "metadata": {},
   "outputs": [],
   "source": [
    "display(Markdown(\"## 40-49 population\"))\n",
    "chartlist2 = find_and_sort_filenames(foldername=\"figures\", population_subset=\"40-49\", file_extension=IMAGE_FORMAT.extension)\n",
    "    \n",
    "for item in chartlist2:\n",
    "    show_chart(item, IMAGE_FORMAT)"
   ]
  },
  {
   "cell_type": "markdown",
   "metadata": {},
   "source": [
    "# \n",
    "## Vaccination rates of each eligible population group, according to demographic/clinical features  <a name='tables' />\n",
    "  - <a href=#Cumulative-vaccination-figures-among-80+-population>80+</a>  population\n",
    "  - <a href=#Cumulative-vaccination-figures-among-70-79-population>70-79</a>  population\n",
    "  - <a href=#Cumulative-vaccination-figures-among-care-home-population>care home (65+)</a> population\n",
    "  - <a href=#Cumulative-vaccination-figures-among-shielding-(aged-16-69)-population>shielding (aged 16-69)</a>  population\n",
    "  - <a href=#Cumulative-vaccination-figures-among-65-69-population>65-69</a>  population\n",
    "  - <a href=#Cumulative-vaccination-figures-among-Learning-Disabilities-(aged-16-64)-population>LD (aged 16-64)</a> populations.\n",
    "  - <a href=#Cumulative-vaccination-figures-among-60-64-population>60-64</a>  population\n",
    "  - <a href=#Cumulative-vaccination-figures-among-55-59-population>55-59</a>  population\n",
    "  - <a href=#Cumulative-vaccination-figures-among-50-54-population>50-54</a>  population\n",
    "  - <a href=#Cumulative-vaccination-figures-among-40-49-population>40-49</a>  population\n",
    "  - <a href=#Cumulative-vaccination-figures-among-30-39-population>30-39</a>  population\n",
    "  - <a href=#Cumulative-vaccination-figures-among-18-29-population>18-29</a>  population\n",
    "  - <a href=#Cumulative-vaccination-figures-among-16-17-population>16-17</a>  population\n",
    "<br>"
   ]
  },
  {
   "cell_type": "code",
   "execution_count": null,
   "metadata": {},
   "outputs": [],
   "source": [
    "tablelist = find_and_sort_filenames(\"tables\", by_demographics_or_population=\"population\", \n",
    "                            pre_string=\"among \", tail_string=\" population.csv\",\n",
    "                            population_subset=\"Cumulative vaccination figures\",\n",
    "                            files_to_exclude=[])\n",
    "    \n",
    "for filename in tablelist:\n",
    "    df, title = import_table(filename, latest_date_fmt, show_carehomes=True, suffix=suffix)\n",
    "\n",
    "    ### Can't embed this in the f string below due to curly brackets\n",
    "    date_string = latest_date_fmt.replace(' 202\\d{1}','')\n",
    "\n",
    "    column_list = [\n",
    "        f\"Vaccinated at {date_string} (n)\", \n",
    "        f\"Total eligible\"\n",
    "    ]\n",
    "            \n",
    "    show_table(df, title, latest_date_fmt, count_columns=column_list, show_carehomes=True)"
   ]
  },
  {
   "cell_type": "markdown",
   "metadata": {},
   "source": [
    "### \n",
    "## Appendix \n",
    "### Ethnicity coverage for each eligible group <a name='ethnicity' />"
   ]
  },
  {
   "cell_type": "code",
   "execution_count": null,
   "metadata": {},
   "outputs": [],
   "source": [
    "from create_report import get_savepath\n",
    "savepath = get_savepath()\n",
    "tab = pd.read_csv(os.path.join(savepath[\"text\"], \"ethnicity_coverage.csv\")).set_index(\"group\")\n",
    "tab.index = tab.index.str.replace(\"vaccinated 18-29\", \"18-29\")\n",
    "display(Markdown(\"- Ethnicity information is primarily retrieved from GP records. \\\n",
    "                 \\n- Where missing in GP records, as of March 8 2021, it is then retrieved from hospital records if present. \\\n",
    "                 \\n - For patients with multiple different ethnicities recorded, we use the most common non-missing ethnicity \\\n",
    "                 \\n recorded in inpatients, outpatients or A&E over the last ~5 years (or latest if tied).\\\n",
    "                 \\n- Patient counts are rounded to the nearest 7\"))\n",
    "\n",
    "tab[[\"total population (n)\",\"ethnicity coverage (%)\"]]"
   ]
  }
 ],
 "metadata": {
  "anaconda-cloud": {},
  "interpreter": {
   "hash": "de1343822d6e7d7aeea8796be9d48304b0fa3610166e8740495ec86b33c71a9e"
  },
  "jupytext": {
   "cell_metadata_filter": "all",
   "notebook_metadata_filter": "all,-language_info",
   "text_representation": {
    "extension": ".py",
    "format_name": "light",
    "format_version": "1.5",
    "jupytext_version": "1.3.3"
   }
  },
  "kernelspec": {
   "display_name": "Python 3.8.11 ('base')",
   "language": "python",
   "name": "python3"
  },
  "language_info": {
   "codemirror_mode": {
    "name": "ipython",
    "version": 3
   },
   "file_extension": ".py",
   "mimetype": "text/x-python",
   "name": "python",
   "nbconvert_exporter": "python",
   "pygments_lexer": "ipython3",
   "version": "3.8.11"
  }
 },
 "nbformat": 4,
 "nbformat_minor": 4
}
