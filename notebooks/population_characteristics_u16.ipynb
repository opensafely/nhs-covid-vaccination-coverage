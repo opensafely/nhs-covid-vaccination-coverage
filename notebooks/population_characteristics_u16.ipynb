{
 "cells": [
  {
   "cell_type": "code",
   "execution_count": null,
   "metadata": {},
   "outputs": [],
   "source": [
    "\n",
    "# # Vaccines and patient characteristics"
   ]
  },
  {
   "cell_type": "code",
   "execution_count": null,
   "metadata": {},
   "outputs": [],
   "source": [
    "\n",
    "\n",
    "\n",
    "\n",
    "\n",
    "# ### Import libraries and data\n",
    "# \n",
    "# The datasets used for this report are created using the study definition [`/analysis/study_definition.py`](../analysis/study_definition.py), using codelists referenced in [`/codelists/codelists.txt`](../codelists/codelists.txt). "
   ]
  },
  {
   "cell_type": "code",
   "execution_count": null,
   "metadata": {},
   "outputs": [],
   "source": [
    "\n",
    "\n",
    "get_ipython().run_line_magic('load_ext', 'autoreload')\n",
    "get_ipython().run_line_magic('autoreload', '2')\n",
    "\n",
    "import pandas as pd\n",
    "import numpy as np\n",
    "import json\n",
    "from datetime import datetime, timedelta\n",
    "import subprocess\n",
    "from IPython.display import display, Markdown, HTML\n",
    "import os\n",
    "import copy\n",
    "\n",
    "group_string = \"u16\"\n",
    "suffix = f\"_{group_string}_tpp\"\n",
    "\n",
    "# get current branch\n",
    "current_branch = subprocess.run([\"git\", \"rev-parse\", \"--abbrev-ref\", \"HEAD\"], capture_output=True).stdout.decode(\"utf8\").strip()\n",
    "\n",
    "\n",
    "# ### Import our custom functions"
   ]
  },
  {
   "cell_type": "code",
   "execution_count": null,
   "metadata": {
    "lines_to_next_cell": 2
   },
   "outputs": [],
   "source": [
    "\n",
    "\n",
    "# import custom functions from 'lib' folder\n",
    "import sys\n",
    "sys.path.append('../lib/')"
   ]
  },
  {
   "cell_type": "code",
   "execution_count": null,
   "metadata": {
    "lines_to_next_cell": 2
   },
   "outputs": [],
   "source": [
    "\n",
    "\n",
    "from data_processing import load_child_data\n",
    "from second_third_doses import abbreviate_time_period\n"
   ]
  },
  {
   "cell_type": "code",
   "execution_count": null,
   "metadata": {
    "lines_to_next_cell": 2
   },
   "outputs": [],
   "source": [
    "\n",
    "\n",
    "from report_results import find_and_save_latest_date, create_output_dirs, report_results, round7"
   ]
  },
  {
   "cell_type": "code",
   "execution_count": null,
   "metadata": {},
   "outputs": [],
   "source": [
    "\n",
    "\n",
    "# create output directories to save files into \n",
    "savepath, savepath_figure_csvs, savepath_table_csvs = create_output_dirs(subfolder=group_string)\n",
    "\n",
    "\n",
    "# ### Load and Process the raw data "
   ]
  },
  {
   "cell_type": "code",
   "execution_count": null,
   "metadata": {
    "lines_to_next_cell": 2
   },
   "outputs": [],
   "source": [
    "df = load_child_data( input_file=f'input_delivery_{group_string}.csv.gz', save_path = savepath )"
   ]
  },
  {
   "cell_type": "code",
   "execution_count": null,
   "metadata": {
    "lines_to_next_cell": 2
   },
   "outputs": [],
   "source": [
    "\n",
    "\n",
    "latest_date, formatted_latest_date = find_and_save_latest_date(df, savepath=savepath)"
   ]
  },
  {
   "cell_type": "code",
   "execution_count": null,
   "metadata": {},
   "outputs": [],
   "source": [
    "\n",
    "\n",
    "print(f\"Latest Date: {formatted_latest_date}\")\n",
    "\n",
    "\n",
    "# ### Summarise by group and demographics at latest date\n",
    "\n",
    "# #### Calculate cumulative sums at each date and select latest date + previous figures for comparison"
   ]
  },
  {
   "cell_type": "code",
   "execution_count": null,
   "metadata": {
    "lines_to_next_cell": 2
   },
   "outputs": [],
   "source": [
    "\n",
    "\n",
    "from report_results import cumulative_sums"
   ]
  },
  {
   "cell_type": "code",
   "execution_count": null,
   "metadata": {
    "lines_to_next_cell": 2
   },
   "outputs": [],
   "source": [
    "\n",
    "\n",
    "# population subgroups - in a dict to indicate which field to filter on\n",
    "\n",
    "\n",
    "population_subgroups = {\"5-11\": 1,\n",
    "                        \"12-15\": 2,\n",
    "        # NB if the population denominator is not included for the final group (0), the key must contain phrase \"not in other eligible groups\" so that data is presented appropriately\n",
    "        }\n",
    "\n",
    "groups = population_subgroups.keys()\n",
    "\n",
    "\n",
    "#  list demographic/clinical factors to include for given group\n",
    "DEFAULT = [\"sex\", \"ethnicity_6_groups\", \"ethnicity_16_groups\", \"imd_categories\"]\n",
    "\n",
    "# dictionary mapping population subgroups to a list of demographic/clinical factors to include for that group\n",
    "features_dict = {0:    DEFAULT, ## patients not assigned to a priority group\n",
    "                 \"5-11\": DEFAULT,\n",
    "                 \"12-15\": DEFAULT,\n",
    "                 \"DEFAULT\": DEFAULT # other age groups\n",
    "                }"
   ]
  },
  {
   "cell_type": "code",
   "execution_count": null,
   "metadata": {
    "lines_to_next_cell": 2
   },
   "outputs": [],
   "source": [
    "df_dict_cum = cumulative_sums(df, groups_of_interest=population_subgroups, features_dict=features_dict, latest_date=latest_date, all_keys=[0,1,2])"
   ]
  },
  {
   "cell_type": "code",
   "execution_count": null,
   "metadata": {},
   "outputs": [],
   "source": [
    "\n",
    "# for details on second/third doses, no need for breakdowns of any groups (only \"overall\" figures will be included)\n",
    "second_dose_features = {}\n",
    "for g in groups:\n",
    "    second_dose_features[g] = []\n",
    "\n",
    "df_dict_cum_second_dose = cumulative_sums(df, groups_of_interest=population_subgroups, features_dict=second_dose_features,\n",
    "                                          latest_date=latest_date, reference_column_name=\"covid_vacc_second_dose_date\")\n",
    "\n",
    "# df_dict_cum_third_dose = cumulative_sums(df, groups_of_interest=population_subgroups, features_dict=second_dose_features, \n",
    "#                                           latest_date=latest_date, reference_column_name=\"covid_vacc_third_dose_date\")\n",
    "\n",
    "# ### Cumulative vaccination figures - overall"
   ]
  },
  {
   "cell_type": "code",
   "execution_count": null,
   "metadata": {
    "lines_to_next_cell": 2
   },
   "outputs": [],
   "source": [
    "\n",
    "\n",
    "from report_results import make_vaccine_graphs"
   ]
  },
  {
   "cell_type": "code",
   "execution_count": null,
   "metadata": {
    "lines_to_next_cell": 2
   },
   "outputs": [],
   "source": [
    "\n",
    "\n",
    "make_vaccine_graphs(df, latest_date=latest_date, grouping=\"priority_status\", savepath_figure_csvs=savepath_figure_csvs, savepath=savepath, suffix=suffix)"
   ]
  },
  {
   "cell_type": "code",
   "execution_count": null,
   "metadata": {},
   "outputs": [],
   "source": [
    "\n",
    "\n",
    "make_vaccine_graphs(df, latest_date=latest_date, include_total=False, savepath=savepath, savepath_figure_csvs=savepath_figure_csvs, suffix=suffix)\n",
    "\n",
    "\n",
    "# ### Reports "
   ]
  },
  {
   "cell_type": "code",
   "execution_count": null,
   "metadata": {
    "lines_to_next_cell": 2
   },
   "outputs": [],
   "source": [
    "\n",
    "\n",
    "from report_results import summarise_data_by_group"
   ]
  },
  {
   "cell_type": "code",
   "execution_count": null,
   "metadata": {
    "lines_to_next_cell": 2
   },
   "outputs": [],
   "source": [
    "\n",
    "\n",
    "summarised_data_dict = summarise_data_by_group(df_dict_cum, latest_date=latest_date, groups=groups)"
   ]
  },
  {
   "cell_type": "code",
   "execution_count": null,
   "metadata": {},
   "outputs": [],
   "source": [
    "\n",
    "\n",
    "summarised_data_dict_2nd_dose = summarise_data_by_group(df_dict_cum_second_dose, latest_date=latest_date, groups=groups)\n",
    "\n",
    "# summarised_data_dict_3rd_dose = summarise_data_by_group(df_dict_cum_third_dose, latest_date=latest_date, groups=groups)\n",
    "\n",
    "\n",
    "# ### Proportion of each eligible population vaccinated to date"
   ]
  },
  {
   "cell_type": "code",
   "execution_count": null,
   "metadata": {
    "lines_to_next_cell": 2
   },
   "outputs": [],
   "source": [
    "\n",
    "\n",
    "from report_results import create_summary_stats_children, create_detailed_summary_uptake"
   ]
  },
  {
   "cell_type": "code",
   "execution_count": null,
   "metadata": {
    "lines_to_next_cell": 2
   },
   "outputs": [],
   "source": [
    "\n",
    "\n",
    "summ_stat_results, additional_stats, group_brand_counts = create_summary_stats_children(df, summarised_data_dict, formatted_latest_date, groups=groups, \n",
    "                                         savepath=savepath, suffix=suffix)"
   ]
  },
  {
   "cell_type": "code",
   "execution_count": null,
   "metadata": {
    "lines_to_next_cell": 2
   },
   "outputs": [],
   "source": [
    "\n",
    "\n",
    "summ_stat_results_2nd_dose, _, _ = create_summary_stats_children(df, summarised_data_dict_2nd_dose, formatted_latest_date, \n",
    "                                                  groups=groups, savepath=savepath, \n",
    "                                                  vaccine_type=\"second_dose\", suffix=suffix)\n",
    "\n",
    "# summ_stat_results_3rd_dose, _, _ = create_summary_stats_children(df, summarised_data_dict_3rd_dose, formatted_latest_date, \n",
    "#                                                    groups=groups, savepath=savepath, \n",
    "#                                                    vaccine_type=\"third_dose\", suffix=suffix)"
   ]
  },
  {
   "cell_type": "code",
   "execution_count": null,
   "metadata": {
    "lines_to_next_cell": 2
   },
   "outputs": [],
   "source": [
    "\n",
    "\n",
    "# display the results of the summary stats on first and second doses\n",
    "display(pd.DataFrame(summ_stat_results).join(pd.DataFrame(summ_stat_results_2nd_dose)))#.join(pd.DataFrame(summ_stat_results_3rd_dose)))\n",
    "display(Markdown(f\"*\\n figures rounded to nearest 7\"))"
   ]
  },
  {
   "cell_type": "code",
   "execution_count": null,
   "metadata": {},
   "outputs": [],
   "source": [
    "\n",
    "\n",
    "# other information on vaccines\n",
    "\n",
    "for x in additional_stats.keys():\n",
    "    display(Markdown(f\"{x}: {additional_stats[x]}\"))\n",
    "    \n",
    "display(Markdown(f\"*\\n figures rounded to nearest 7\"))\n",
    "\n",
    "\n",
    "# # Detailed summary of coverage among population groups as at latest date"
   ]
  },
  {
   "cell_type": "code",
   "execution_count": null,
   "metadata": {},
   "outputs": [],
   "source": [
    "\n",
    "\n",
    "create_detailed_summary_uptake(summarised_data_dict, formatted_latest_date, \n",
    "                               groups=population_subgroups.keys(),\n",
    "                               savepath=savepath)\n",
    "\n",
    "\n",
    "# # Demographics time trend charts"
   ]
  },
  {
   "cell_type": "code",
   "execution_count": null,
   "metadata": {
    "lines_to_next_cell": 2
   },
   "outputs": [],
   "source": [
    "\n",
    "\n",
    "from report_results import plot_dem_charts"
   ]
  },
  {
   "cell_type": "code",
   "execution_count": null,
   "metadata": {},
   "outputs": [],
   "source": [
    "\n",
    "\n",
    "plot_dem_charts(summ_stat_results, df_dict_cum,  formatted_latest_date,\n",
    "                pop_subgroups=[\"5-11\",\"12-15\"],\n",
    "                groups_dict=features_dict,\n",
    "                # groups_to_exclude=[\"ethnicity_16_groups\", \"current_copd\", \"chronic_cardiac_disease\", \"dmards\", \"chemo_or_radio\", \"lung_cancer\", \"cancer_excl_lung_and_haem\", \"haematological_cancer\"],\n",
    "                savepath=savepath, savepath_figure_csvs=savepath_figure_csvs, suffix=suffix)\n",
    "\n",
    "\n",
    "# ## Completeness of ethnicity recording"
   ]
  },
  {
   "cell_type": "code",
   "execution_count": null,
   "metadata": {},
   "outputs": [],
   "source": [
    "\n",
    "\n",
    "from data_quality import *\n",
    "\n",
    "ethnicity_completeness(df=df, groups_of_interest=population_subgroups, savepath=savepath )\n",
    "\n",
    "\n",
    "# # Second doses"
   ]
  },
  {
   "cell_type": "code",
   "execution_count": null,
   "metadata": {
    "lines_to_next_cell": 2
   },
   "outputs": [],
   "source": [
    "\n",
    "\n",
    "# only count second doses where the first dose was given at least 14 weeks ago \n",
    "# to allow comparison of the first dose situation secondDue ago with the second dose situation now\n",
    "# otherwise bias could be introduced from any second doses given early in certain subgroups\n",
    "\n",
    "def subtract_from_date(s, unit, number, description):\n",
    "    '''\n",
    "    s (series): a series of date-like strings\n",
    "    unit (str) : days/weeks\n",
    "    number (int): number of days/weeks to subtract\n",
    "    description (str): description of new date calculated to use as filename\n",
    "    '''\n",
    "    if unit == \"weeks\":\n",
    "        new_date = pd.to_datetime(s).max() - timedelta(weeks=number)\n",
    "    elif unit == \"days\":\n",
    "        new_date = pd.to_datetime(s).max() - timedelta(days=number)\n",
    "    else:\n",
    "        display(\"invalid unit\")\n",
    "        return\n",
    "    new_date = str(new_date)[:10]\n",
    "\n",
    "    formatted_date = datetime.strptime(new_date, \"%Y-%m-%d\").strftime(\"%d %b %Y\")\n",
    "    with open(os.path.join(savepath[\"text\"], f\"{description}.txt\"), \"w\") as text_file:\n",
    "            text_file.write(formatted_date)\n",
    "    with open(os.path.join(savepath[\"text\"], f\"{description}_specified_delay.txt\"), \"w\") as text_file:\n",
    "        formatted_delay = f\"{number} {unit}\"\n",
    "        text_file.write(formatted_delay)\n",
    "\n",
    "    display(Markdown(formatted_date))\n",
    "    return new_date, formatted_date\n",
    "    \n",
    "\n",
    "second_scheduling = 14\n",
    "second_scheduling_string_short = f\"{second_scheduling}w\"\n",
    "second_scheduling_string_long = f\"{second_scheduling} weeks\"\n",
    "\n",
    "date_secondDue, formatted_date_secondDue = subtract_from_date(s=df[\"covid_vacc_date\"], unit=\"weeks\", number=second_scheduling,\n",
    "                                             description=\"latest_date_of_first_dose_for_due_second_doses\")"
   ]
  },
  {
   "cell_type": "code",
   "execution_count": null,
   "metadata": {
    "lines_to_next_cell": 2
   },
   "outputs": [],
   "source": [
    "\n",
    "\n",
    "# filter data\n",
    "df_s = df.copy()\n",
    "# replace any second doses not yet \"due\" with \"0\"\n",
    "df_s.loc[(pd.to_datetime(df_s[\"covid_vacc_date\"]) >= date_secondDue), \"covid_vacc_second_dose_date\"] = 0\n",
    "\n",
    "# also ensure that first dose was dated after the start of the campaign, otherwise date is likely incorrect \n",
    "# and due date for second dose cannot be calculated accurately\n",
    "# this also excludes any second doses where first dose date = 0 (this should affect dummy data only!)\n",
    "df_s.loc[(pd.to_datetime(df_s[\"covid_vacc_date\"]) <= \"2021-08-04\"), \"covid_vacc_second_dose_date\"] = 0"
   ]
  },
  {
   "cell_type": "code",
   "execution_count": null,
   "metadata": {
    "lines_to_next_cell": 2
   },
   "outputs": [],
   "source": [
    "\n",
    "\n",
    "# add \"brand of first dose\" to list of features to break down by\n",
    "features_dict_2 = copy.deepcopy(features_dict)\n",
    "\n",
    "for k in features_dict_2:\n",
    "    ls = list(features_dict_2[k])\n",
    "    ls.append(\"brand_of_first_dose\") \n",
    "    features_dict_2[k] = ls"
   ]
  },
  {
   "cell_type": "code",
   "execution_count": null,
   "metadata": {
    "lines_to_next_cell": 2
   },
   "outputs": [],
   "source": [
    "\n",
    "\n",
    "# data processing / summarising\n",
    "df_dict_cum_second_dose = cumulative_sums(df_s, groups_of_interest=population_subgroups, features_dict=features_dict_2, \n",
    "                                          latest_date=latest_date, reference_column_name=\"covid_vacc_second_dose_date\")\n",
    "\n",
    "second_dose_summarised_data_dict = summarise_data_by_group(df_dict_cum_second_dose, latest_date=latest_date, groups=groups)\n",
    "\n",
    "create_detailed_summary_uptake(second_dose_summarised_data_dict, formatted_latest_date, \n",
    "                               groups=groups,\n",
    "                               savepath=savepath, vaccine_type=\"second_dose\")"
   ]
  },
  {
   "cell_type": "code",
   "execution_count": null,
   "metadata": {},
   "outputs": [],
   "source": [
    "\n",
    "second_dose_summarised_data_dict = summarise_data_by_group(df_dict_cum_second_dose, latest_date=latest_date, groups=groups)\n",
    "\n",
    "create_detailed_summary_uptake(second_dose_summarised_data_dict, formatted_latest_date, \n",
    "                               groups=groups,\n",
    "                               savepath=savepath, vaccine_type=\"second_dose\")\n",
    "\n",
    "## For comparison look at first doses UP TO 14 WEEKS AGO\n"
   ]
  },
  {
   "cell_type": "code",
   "execution_count": null,
   "metadata": {},
   "outputs": [],
   "source": [
    "\n",
    "\n",
    "# latest date of 14 weeks ago is entered as the latest_date when calculating cumulative sums below.\n",
    "\n",
    "# Seperately, we also ensure that first dose was dated after the start of the campaign, \n",
    "# to be consistent with the second doses due calculated above\n",
    "df_secondDue = df.copy()\n",
    "df_secondDue.loc[(pd.to_datetime(df_secondDue[\"covid_vacc_date\"]) <= \"2021-08-04\"), \"covid_vacc_date\"] = 0\n",
    "\n",
    "\n",
    "df_dict_cum_secondDue = cumulative_sums(\n",
    "                                  df_secondDue, groups_of_interest=population_subgroups, features_dict=features_dict_2, \n",
    "                                  latest_date=date_secondDue\n",
    "                                  )\n",
    "\n",
    "summarised_data_dict_secondDue = summarise_data_by_group(\n",
    "                                                   df_dict_cum_secondDue, \n",
    "                                                   latest_date=date_secondDue, \n",
    "                                                   groups=groups\n",
    "                                                   )\n",
    "\n",
    "create_detailed_summary_uptake(summarised_data_dict_secondDue, formatted_latest_date=date_secondDue, \n",
    "                               groups=groups,\n",
    "                               savepath=savepath, vaccine_type=f\"first_dose_{second_scheduling_string_short}_ago\")\n",
    "\n",
    "\n",
    "# # Booster/third doses"
   ]
  },
  {
   "cell_type": "code",
   "execution_count": null,
   "metadata": {
    "lines_to_next_cell": 2
   },
   "outputs": [],
   "source": [
    "\n",
    "\n",
    "# Only want to count third doses where the second dose was given some period of time ago.\n",
    "# This period of time is defined by the variables booster_delay_number and booster_delay_unit.\n",
    "\n",
    "# booster_delay_number = 14\n",
    "# booster_delay_unit = \"weeks\"\n",
    "# booster_delay_unit_short = abbreviate_time_period( booster_delay_unit )\n",
    "\n",
    "# date_3rdDUE, formatted_date_3rdDUE = subtract_from_date(s=df[\"covid_vacc_date\"], unit=booster_delay_unit, number=booster_delay_number,\n",
    "#                                                         description=\"latest_date_of_second_dose_for_due_third_doses\")"
   ]
  },
  {
   "cell_type": "code",
   "execution_count": null,
   "metadata": {
    "lines_to_next_cell": 2
   },
   "outputs": [],
   "source": [
    "\n",
    "\n",
    "# # filtering for third doses that are \"due\"\n",
    "\n",
    "# df_t = df.copy()\n",
    "# # replace any third doses not yet \"due\" with \"0\"\n",
    "# df_t.loc[(pd.to_datetime(df_t[\"covid_vacc_second_dose_date\"]) >= date_3rdDUE), \"covid_vacc_third_dose_date\"] = 0\n",
    "\n",
    "# # also ensure that second dose was dated (2weeks) after the start of the campaign, otherwise date is likely incorrect \n",
    "# # and due date for third dose cannot be calculated accurately\n",
    "# # this also excludes any third doses where second dose date = 0 (this should affect dummy data only!)\n",
    "# df_t.loc[(pd.to_datetime(df_t[\"covid_vacc_second_dose_date\"]) <= \"2021-09-22\"), \"covid_vacc_third_dose_date\"] = 0"
   ]
  },
  {
   "cell_type": "code",
   "execution_count": null,
   "metadata": {
    "lines_to_next_cell": 2
   },
   "outputs": [],
   "source": [
    "\n",
    "\n",
    "# # summarise third doses to date (after filtering above)\n",
    "\n",
    "# # Include 18+ age groups plus priority groups (50+/CEV/Care home etc) only\n",
    "# population_subgroups_third = {key: value for key, value in population_subgroups.items() if 0 < value < 13}\n",
    "\n",
    "# df_dict_cum_third_dose = cumulative_sums(df_t, groups_of_interest=population_subgroups_third, features_dict=features_dict,\n",
    "#                                          latest_date=latest_date, reference_column_name=\"covid_vacc_third_dose_date\")\n",
    "\n",
    "# third_dose_summarised_data_dict = summarise_data_by_group(\n",
    "#     df_dict_cum_third_dose, latest_date=latest_date, groups=population_subgroups_third.keys())\n",
    "\n",
    "# create_detailed_summary_uptake(third_dose_summarised_data_dict, formatted_latest_date,\n",
    "#                                groups=population_subgroups_third.keys(),\n",
    "#                                savepath=savepath, vaccine_type=\"third_dose\")"
   ]
  },
  {
   "cell_type": "code",
   "execution_count": null,
   "metadata": {
    "lines_to_next_cell": 2
   },
   "outputs": [],
   "source": [
    "\n",
    "\n",
    "# display(Markdown(f\"## For comparison look at second dose coverate UP TO {booster_delay_number} {booster_delay_unit.upper()} AGO\"))"
   ]
  },
  {
   "cell_type": "code",
   "execution_count": null,
   "metadata": {
    "lines_to_next_cell": 2
   },
   "outputs": [],
   "source": [
    "\n",
    "\n",
    "# # latest date of 200 days ago is entered as the latest_date when calculating cumulative sums below.\n",
    "\n",
    "# # Seperately, we also ensure that second dose was dated 2 weeks after the start of the campaign, \n",
    "# # to be consistent with the third doses due calculated above\n",
    "# df_3rdDUE = df.copy()\n",
    "# df_3rdDUE.loc[(pd.to_datetime(df_3rdDUE[\"covid_vacc_second_dose_date\"]) <= \"2021-09-22\"), \"covid_vacc_second_dose_date\"] = 0\n",
    "\n",
    "# df_dict_cum_3rdDUE = cumulative_sums(\n",
    "#     df_3rdDUE, groups_of_interest=population_subgroups_third, features_dict=features_dict,\n",
    "#     latest_date=date_3rdDUE,\n",
    "#                                   reference_column_name=\"covid_vacc_second_dose_date\"\n",
    "#                                   )\n",
    "\n",
    "# summarised_data_dict_3rdDUE = summarise_data_by_group(\n",
    "#                                                    df_dict_cum_3rdDUE, latest_date=date_3rdDUE,\n",
    "#                                                    groups=population_subgroups_third.keys()\n",
    "#                                                    )\n",
    "\n",
    "# create_detailed_summary_uptake(summarised_data_dict_3rdDUE, formatted_latest_date=date_3rdDUE,\n",
    "#                                groups=population_subgroups_third.keys(),\n",
    "#                                savepath=savepath, vaccine_type=f\"second_dose_{booster_delay_number}{booster_delay_unit_short}_ago\")"
   ]
  },
  {
   "cell_type": "code",
   "execution_count": null,
   "metadata": {},
   "outputs": [],
   "source": [
    "\n",
    "\n",
    "# df_dict_cum_3rdDUE = cumulative_sums(\n",
    "#     df_3rdDUE, groups_of_interest=population_subgroups_third, features_dict=features_dict,\n",
    "#     latest_date=date_3rdDUE,\n",
    "#                                   reference_column_name=\"covid_vacc_second_dose_date\"\n",
    "#                                   )\n",
    "\n",
    "# summarised_data_dict_3rdDUE = summarise_data_by_group(\n",
    "#                                                    df_dict_cum_3rdDUE, latest_date=date_3rdDUE,\n",
    "#                                                    groups=population_subgroups_third.keys()\n",
    "#                                                    )\n",
    "\n",
    "# create_detailed_summary_uptake(summarised_data_dict_3rdDUE, formatted_latest_date=date_3rdDUE,\n",
    "#                                groups=population_subgroups_third.keys(),\n",
    "#                                savepath=savepath, vaccine_type=f\"second_dose_{booster_delay_number}{booster_delay_unit_short}_ago\")"
   ]
  }
 ],
 "metadata": {
  "interpreter": {
   "hash": "de1343822d6e7d7aeea8796be9d48304b0fa3610166e8740495ec86b33c71a9e"
  },
  "jupytext": {
   "cell_metadata_filter": "all",
   "notebook_metadata_filter": "all,-language_info",
   "text_representation": {
    "extension": ".py",
    "format_name": "light",
    "format_version": "1.5",
    "jupytext_version": "1.3.3"
   }
  },
  "kernelspec": {
   "display_name": "Python 3.8.11 ('base')",
   "language": "python",
   "name": "python3"
  },
  "language_info": {
   "codemirror_mode": {
    "name": "ipython",
    "version": 3
   },
   "file_extension": ".py",
   "mimetype": "text/x-python",
   "name": "python",
   "nbconvert_exporter": "python",
   "pygments_lexer": "ipython3",
   "version": "3.8.11"
  }
 },
 "nbformat": 4,
 "nbformat_minor": 4
}
