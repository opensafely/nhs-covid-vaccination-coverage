{
 "cells": [
  {
   "cell_type": "markdown",
   "metadata": {},
   "source": [
    "# OpenSAFELY COVID Vaccine coverage report: second doses for 5 to 15 year olds\n",
    "\n",
    "OpenSAFELY is a new secure analytics platform for electronic patient records built on behalf of NHS England to deliver urgent academic and operational research during the pandemic. \n",
    "\n",
    "Since December 2020 we have been reporting on COVID-19 vaccination coverage (for patients aged 16 and over) in England using data from 40% of general practices that use TPP electronic health record software. In [September 2021](https://www.england.nhs.uk/2021/09/nhs-rolls-out-covid-19-jab-to-children-aged-12-to-15/), the COVID vaccination programme was extended to 12-15 year olds. The [Living with Covid guidance](https://www.gov.uk/government/publications/covid-19-response-living-with-covid-19) was updated in February 2022 to advise that vaccines would be offered to children between the ages of 5 and 11 from Spring 2022. As such, we are now regularly reporting on vaccination coverage for children between the age of 5 and 15. \n",
    "\n",
    "**The data requires careful interpretation and there are a number of caveats, please refer to our peer-reviewed publications (https://doi.org/10.3399/BJGP.2021.0376) for further details. While this publication describes an analysis of vaccine uptake in those 16 and over, it is relevant here as the core functionality has been repurposed to generate our vaccine coverage reports for 5-15 year olds.**\n",
    "\n",
    "The full analytical methods behind the latest results in this report are available [here](https://github.com/opensafely/nhs-covid-vaccination-uptake). "
   ]
  },
  {
   "cell_type": "code",
   "execution_count": null,
   "metadata": {},
   "outputs": [],
   "source": [
    "import sys\n",
    "sys.path.append('../lib/')\n",
    "\n",
    "\n",
    "from image_formats import pick_image_format\n",
    "from create_report import find_and_sort_filenames, show_chart\n",
    "from second_third_doses import *\n",
    "import json\n",
    "import pandas as pd\n",
    "import os\n",
    "from IPython.display import display, Markdown\n",
    "from datetime import datetime\n",
    "\n",
    "%matplotlib inline\n",
    "%config InlineBackend.figure_format = 'png'\n",
    "\n",
    "pd.set_option(\"display.max_rows\", 200)\n",
    "\n",
    "\n",
    "IMAGE_FORMAT = pick_image_format()\n",
    "\n",
    "\n",
    "backend = os.getenv(\"OPENSAFELY_BACKEND\", \"expectations\")\n",
    "group_string = \"u16\"\n",
    "suffix = f\"_{group_string}_tpp\"\n"
   ]
  },
  {
   "cell_type": "markdown",
   "metadata": {},
   "source": [
    "## Vaccines approved for use in children\n",
    "\n",
    "The 30 microgram dose of the Pfizer BioNTech COVID-19 vaccine BNT162b2 was approved for use in 12-15 year olds in June 2021. In December 2021, the MHRA approved a 10 microgram dose for children aged 5-11 years.  Where the paediatric formulation is not available, 10 micrograms (0.1ml) of the diluted adult vaccine may be used as an alternative. The Moderna vaccine has also been approved for use in 12-17 year olds.\n",
    "\n",
    "More information regarding vaccines approved for use is available in [The Green Book, chapter 14a](https://www.gov.uk/government/publications/covid-19-the-green-book-chapter-14a), see specifically the \"Vaccine Effectiveness\" (p.6-7) and \"Dosing and Schedule\" (p. 12-13) sections."
   ]
  },
  {
   "cell_type": "markdown",
   "metadata": {},
   "source": [
    "## Second doses"
   ]
  },
  {
   "cell_type": "markdown",
   "metadata": {},
   "source": [
    "Second doses are recommended to occur within 8 weeks for children at high risk and within 12 weeks for all other children (see p. 13 in [The Green Book, chapter 14a](https://www.gov.uk/government/publications/covid-19-the-green-book-chapter-14a)). To accommodate short delays in the administration of second doses, in this report we consider an individual to be 'due' to receive their second dose if their first dose more than 14 weeks ago. Anyone who has *not* had their second dose by 14 weeks is described as 'overdue'.\n",
    "\n",
    "**Please note**: This report is intended to highlight any differences between population subgroups in receiving second doses, only including those which are due (i.e. where at least 14 weeks has passed since the first dose) unless otherwise stated. **It is therefore NOT a comprehensive view of all second doses given to date** - to see these figures please refer to the main report."
   ]
  },
  {
   "cell_type": "code",
   "execution_count": null,
   "metadata": {
    "lines_to_end_of_cell_marker": 2
   },
   "outputs": [],
   "source": [
    "display(\n",
    "    Markdown(f\"### Report last updated **{datetime.today().strftime('%d %b %Y')}**\")\n",
    ")\n",
    "\n",
    "with open(\n",
    "    os.path.join(\"..\", \"interim-outputs\", group_string, \"text\", \"latest_date.txt\"), \"r\"\n",
    ") as file:\n",
    "    latest_date_fmt = file.read()\n",
    "    display(\n",
    "        Markdown(\n",
    "            f\"### Second dose vaccinations included up to **{latest_date_fmt}** inclusive\"\n",
    "        )\n",
    "    )\n",
    "\n",
    "with open(\n",
    "    os.path.join(\n",
    "        \"..\",\n",
    "        \"interim-outputs\",\n",
    "        group_string,\n",
    "        \"text\",\n",
    "        \"latest_date_of_first_dose_for_due_second_doses.txt\",\n",
    "    ),\n",
    "    \"r\",\n",
    ") as file:\n",
    "    latest_date_secondDUE_fmt = file.read()\n",
    "\n",
    "display(\n",
    "    Markdown(\n",
    "        f\"### Only 5-15 year olds who had their first dose between the start of the campaign (**4th August 2021**) \\\n",
    "    and 7 weeks ago (**{latest_date_secondDUE_fmt}**) are included in the 'due' group.\"\n",
    "    )\n",
    ")\n",
    "\n",
    "additional_stats = pd.read_csv(\n",
    "    os.path.join(\n",
    "        \"..\", \"interim-outputs\", group_string, \"text\", \"additional_stats_first_dose.txt\"\n",
    "    )\n",
    ").set_index(\"Unnamed: 0\")\n",
    "\n",
    "group_brand_counts = pd.read_csv(\n",
    "    os.path.join(\n",
    "        \"..\", \"interim-outputs\", group_string, \"text\", \"summary_stats_brand_counts.txt\"\n",
    "    )\n",
    ").set_index([\"Group\", \"Vaccine brand\"])\n",
    "group_brand_counts = group_brand_counts[[\"second_doses\", \"second_doses_perc\"]]"
   ]
  },
  {
   "cell_type": "markdown",
   "metadata": {},
   "source": [
    "#### \n",
    "## Contents\n",
    "- **<a href=#brands>Brand counts (second dose)</a>**\n",
    "<br>\n",
    "<br>\n",
    "- **Tables:** Current second dose vaccination coverage according to demographic/clinical features, for:\n",
    "  - <a href=#Cumulative-second-dose-vaccination-figures-among-5-11-population>5-11 population</a>\n",
    "  - <a href=#Cumulative-second-dose-vaccination-figures-among-12-15-population>12-15 population</a>\n",
    "<br>\n",
    "<br>\n",
    "- **Table:** <a href=\"#Summary\"> Summary of second dose vaccination coverage </a>\n",
    "<br>\n",
    "<br>\n",
    "- **Figures:** <a href=#By-vaccine-brand-(first-and-second-doses)>Time to second dose plots, by vaccine brand<a>:\n",
    "  - <a href=#Cumulative-plot-of-time-to-second-dose-(matched-brands)-among-5-11-population>5-11 population</a>\n",
    "  - <a href=#Cumulative-plot-of-time-to-second-dose-(matched-brands)-among-12-15-population>12-15 population</a>\n",
    "<br>\n",
    "<br>\n"
   ]
  },
  {
   "cell_type": "code",
   "execution_count": null,
   "metadata": {},
   "outputs": [],
   "source": [
    "with open(f\"../lib/group_definitions_{group_string}.txt\") as f:\n",
    "    group_defs = f.read()\n",
    "    display(Markdown(f\"{group_defs} \\n\\n  #### \\n\"))"
   ]
  },
  {
   "cell_type": "markdown",
   "metadata": {},
   "source": [
    "## Brand counts <a name='brands' />"
   ]
  },
  {
   "cell_type": "markdown",
   "metadata": {},
   "source": [
    "Note that the total in this table may not be identical to that provided elsewhere\n",
    "and percentages may not sum to 100%. There are several aspects of the recorded data\n",
    "and analysis that impact on these totals:\n",
    "\n",
    "* It is not always possible to determine the vaccine type given; these patients are removed from the brand totals\n",
    "* Occasionally patients have more than one brand recorded on the same day; these patients are removed from the brand totals\n",
    "* We round to seven to mitigate against risk of disclosure; these totals are calculated from previously rounded numbers\n",
    "* Second doses are counted here whether they are 'due' or not "
   ]
  },
  {
   "cell_type": "code",
   "execution_count": null,
   "metadata": {},
   "outputs": [],
   "source": [
    "brand_summary = group_brand_counts.rename(\n",
    "    columns={\n",
    "        \"second_doses\": f\"Second doses as at {latest_date_fmt}\",\n",
    "        \"second_doses_perc\": f\"% second doses as at {latest_date_fmt}\",\n",
    "    }\n",
    ")\n",
    "\n",
    "display(brand_summary)"
   ]
  },
  {
   "cell_type": "code",
   "execution_count": null,
   "metadata": {},
   "outputs": [],
   "source": [
    "display(\n",
    "    Markdown(\n",
    "        f\"##### \\n\"\n",
    "        \"**Notes**\\n\"\n",
    "        \"\\n- Patient counts are rounded to nearest 7\\n\"\n",
    "        \"\\n- 'Other' vaccines are Oxford-AZ or Moderna\\n\"\n",
    "        \"\\n- For the brand totals, second doses given in these timescales are counted whether or not they were 'due' according to the relevant dosing schedule at the time.\"\n",
    "    )\n",
    ")\n",
    "\n",
    "display(Markdown(\"##### \\n\"))"
   ]
  },
  {
   "cell_type": "code",
   "execution_count": null,
   "metadata": {},
   "outputs": [],
   "source": [
    "display(\n",
    "    Markdown(\n",
    "        f\"### Second dose coverage by first dose brand\\n\\n\"\n",
    "        f\"The percentage of second doses received by first dose brand are provided below.\\n\\n\"\n",
    "        f\"Note that these figures are raw proportions and do not take into account how many are due; this may vary substantially by brand.\\n\\n\"\n",
    "    )\n",
    ")\n",
    "\n",
    "display(Markdown(\"##### \\n\"))\n",
    "\n",
    "for x in additional_stats.index[3:]:\n",
    "    display(Markdown(f\"{x}: {additional_stats.loc[x][0]}\\n\"))\n",
    "\n",
    "display(Markdown(\"##### \\n\"))\n",
    "\n",
    "### Mixed doses not calculated as yet.\n",
    "# display(Markdown(\"<br>**Note:** mixed doses counts patients with first and second doses at least 49 days apart, \\\n",
    "#                   excluding patients with two different brands recorded on the same day \\\n",
    "#                   or recorded on a date prior to when the given brand was available in the UK\"))\n",
    "\n",
    "# for x in additional_stats.index[7:]:\n",
    "#     display(Markdown(f\"{x}: {additional_stats.loc[x][0]}\\n\"))"
   ]
  },
  {
   "cell_type": "code",
   "execution_count": null,
   "metadata": {},
   "outputs": [],
   "source": [
    "tablelist = find_and_sort_filenames(\n",
    "    \"tables\",\n",
    "    by_demographics_or_population=\"population_reversed\",\n",
    "    org_breakdown=group_string,\n",
    "    pre_string=\"among \",\n",
    "    tail_string=\" population.csv\",\n",
    "    population_subset=\"Cumulative first dose 14w ago\",\n",
    "    # files_to_exclude=[\"Cumulative first dose 14w ago vaccination figures among 5-11 population.csv\"],\n",
    ")\n",
    "\n",
    "# get 2nd dose figures for each group\n",
    "tablelist_2nd = find_and_sort_filenames(\n",
    "    \"tables\",\n",
    "    by_demographics_or_population=\"population_reversed\",\n",
    "    org_breakdown=group_string,\n",
    "    pre_string=\"among \",\n",
    "    tail_string=\" population.csv\",\n",
    "    population_subset=\"Cumulative second dose vaccination\",\n",
    "    # files_to_exclude=[\"Cumulative second dose vaccination figures among 5-11 population.csv\"],\n",
    ")"
   ]
  },
  {
   "cell_type": "code",
   "execution_count": null,
   "metadata": {},
   "outputs": [],
   "source": [
    "second_third_doses(\n",
    "    tablelist,\n",
    "    tablelist_2nd,\n",
    "    dose_type=\"Second\",\n",
    "    time_period=\"14 weeks\",\n",
    "    org_breakdown=group_string,\n",
    "    latest_date_fmt=latest_date_fmt,\n",
    "    latest_date_fmt_2=latest_date_secondDUE_fmt,\n",
    "    max_ylim=100,\n",
    "    backend=backend,\n",
    "    suffix=suffix,\n",
    ")"
   ]
  },
  {
   "cell_type": "markdown",
   "metadata": {},
   "source": [
    "\n",
    "## Time to second dose\n",
    "\n",
    "Find below plots showing cumulative percentage of time to second dose (all brands), for the 5-11 and 12-15 groups."
   ]
  },
  {
   "cell_type": "code",
   "execution_count": null,
   "metadata": {},
   "outputs": [],
   "source": [
    "chartlist = find_and_sort_filenames(\n",
    "    foldername=\"figures\",\n",
    "    org_breakdown=\"u16\",\n",
    "    population_subset=\"5-11\",\n",
    "    by_demographics_or_population=\"demographics\",\n",
    "    file_extension=IMAGE_FORMAT.extension,\n",
    ")\n",
    "chartlist_time_to_second_dose = [k for k in chartlist if \"time to second dose\" in k]\n",
    "\n",
    "for item in chartlist_time_to_second_dose:\n",
    "    show_chart(item, IMAGE_FORMAT, org_breakdown=\"u16\")"
   ]
  },
  {
   "cell_type": "code",
   "execution_count": null,
   "metadata": {},
   "outputs": [],
   "source": [
    "chartlist = find_and_sort_filenames(\n",
    "    foldername=\"figures\",\n",
    "    org_breakdown=\"u16\",\n",
    "    population_subset=\"12-15\",\n",
    "    by_demographics_or_population=\"demographics\",\n",
    "    file_extension=IMAGE_FORMAT.extension,\n",
    ")\n",
    "\n",
    "chartlist_time_to_second_dose = [k for k in chartlist if \"time to second dose\" in k]\n",
    "\n",
    "for item in chartlist_time_to_second_dose:\n",
    "    show_chart(item, IMAGE_FORMAT, org_breakdown=\"u16\")"
   ]
  }
 ],
 "metadata": {
  "interpreter": {
   "hash": "de1343822d6e7d7aeea8796be9d48304b0fa3610166e8740495ec86b33c71a9e"
  },
  "jupytext": {
   "cell_metadata_filter": "all",
   "notebook_metadata_filter": "all,-language_info",
   "text_representation": {
    "extension": ".py",
    "format_name": "light",
    "format_version": "1.5",
    "jupytext_version": "1.3.3"
   }
  },
  "kernelspec": {
   "display_name": "Python 3.8.11 ('base')",
   "language": "python",
   "name": "python3"
  },
  "language_info": {
   "codemirror_mode": {
    "name": "ipython",
    "version": 3
   },
   "file_extension": ".py",
   "mimetype": "text/x-python",
   "name": "python",
   "nbconvert_exporter": "python",
   "pygments_lexer": "ipython3",
   "version": "3.8.11"
  }
 },
 "nbformat": 4,
 "nbformat_minor": 4
}
